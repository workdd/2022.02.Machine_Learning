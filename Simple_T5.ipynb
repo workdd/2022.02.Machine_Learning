{
 "cells": [
  {
   "cell_type": "code",
   "execution_count": 1,
   "id": "3c54e1b7-3e2c-41f9-8371-7c313697cefb",
   "metadata": {
    "pycharm": {
     "name": "#%%\n"
    }
   },
   "outputs": [],
   "source": [
    "import re\n",
    "import json\n",
    "import pandas as pd\n",
    "from tqdm.auto import tqdm\n",
    "from nltk.translate.bleu_score import sentence_bleu"
   ]
  },
  {
   "cell_type": "code",
   "execution_count": 2,
   "id": "e713261b-48a9-45b5-a692-159ce59b3da0",
   "metadata": {
    "pycharm": {
     "name": "#%%\n"
    }
   },
   "outputs": [],
   "source": [
    "data_file = r'../arxiv-metadata-oai-snapshot.json'"
   ]
  },
  {
   "cell_type": "code",
   "execution_count": 3,
   "id": "2b7414a1-a507-4bf9-af98-ccff87d828bb",
   "metadata": {
    "pycharm": {
     "name": "#%%\n"
    }
   },
   "outputs": [],
   "source": [
    "import json"
   ]
  },
  {
   "cell_type": "code",
   "execution_count": 4,
   "id": "54478a9a-dc46-4fef-a32b-071d40ad0748",
   "metadata": {
    "pycharm": {
     "name": "#%%\n"
    }
   },
   "outputs": [],
   "source": [
    "def get_metadata():\n",
    "    with open(data_file, 'r') as f:\n",
    "        for line in f:\n",
    "            yield line"
   ]
  },
  {
   "cell_type": "code",
   "execution_count": 5,
   "id": "cda9578f-b19a-4769-81a8-b621984a20e4",
   "metadata": {
    "pycharm": {
     "name": "#%%\n"
    }
   },
   "outputs": [],
   "source": [
    "# we will consider below 3 categories for training \n",
    "paper_categories = set([\"cs.AI\", # Artificial Intelligence\n",
    "                    \"cs.CV\", # Computer Vision and Pattern Recognition\n",
    "                    \"cs.LG\",\n",
    "                   \"cs.CL\",\n",
    "                   \"cs.CC\",\n",
    "                   \"cs.CE\",\n",
    "                   \"cs.CG\",\n",
    "                   \"cs.GT\",\n",
    "                   \"cs.CY\",\n",
    "                   \"cs.CR\",\n",
    "                   \"cs.DS\",\n",
    "                   \"cs.DB\",\n",
    "                   \"cs.DL\",\n",
    "                   \"cs.DM\",\n",
    "                   \"cs.DC\",\n",
    "                   \"cs.ET\",\n",
    "                   \"cs.FL\",\n",
    "                   \"cs.GL\",\n",
    "                   \"cs.GR\",\n",
    "                   \"cs.AR\",\n",
    "                   \"cs.HC\",\n",
    "                   \"cs.IR\",\n",
    "                   \"cs.IT\",\n",
    "                   \"cs.LO\",\n",
    "                   \"cs.LG\",\n",
    "                   \"cs.MS\",\n",
    "                   \"cs.MA\",\n",
    "                   \"cs.MM\",\n",
    "                   \"cs.NI\",\n",
    "                   \"cs.NE\",\n",
    "                   \"cs.NA\",\n",
    "                   \"cs.OS\",\n",
    "                   \"cs.OH\",\n",
    "                   \"cs.PF\",\n",
    "                   \"cs.PL\",\n",
    "                   \"cs.RO\",\n",
    "                   \"cs.SI\",\n",
    "                    \"cs.SE\",\n",
    "                    \"cs.SD\",\n",
    "                    \"cs.SC\",\n",
    "                    \"cs.SY\"])# Machine Learning"
   ]
  },
  {
   "cell_type": "code",
   "execution_count": null,
   "id": "3f22ca43-d8a6-4e2a-a998-a1bb03948948",
   "metadata": {
    "pycharm": {
     "name": "#%%\n"
    }
   },
   "outputs": [],
   "source": []
  },
  {
   "cell_type": "code",
   "execution_count": 6,
   "id": "7c5d393d-fd7b-4ec2-a43f-22dbccb08889",
   "metadata": {
    "pycharm": {
     "name": "#%%\n"
    }
   },
   "outputs": [],
   "source": [
    "def build_dataset(categories=paper_categories):\n",
    "    titles = []\n",
    "    abstracts = []\n",
    "    metadata = get_metadata()\n",
    "    for paper in tqdm(metadata):\n",
    "        paper_dict = json.loads(paper)\n",
    "        category = paper_dict.get('categories')\n",
    "        if len(paper_categories.intersection(set(category.split(\" \")))) > 0:\n",
    "            try:\n",
    "                year = int(paper_dict.get('journal-ref')[-4:])\n",
    "                titles.append(paper_dict.get('title'))\n",
    "                abstracts.append(paper_dict.get('abstract').replace(\"\\n\",\"\"))\n",
    "            except:\n",
    "                pass \n",
    "\n",
    "    papers = pd.DataFrame({'title': titles,'abstract': abstracts})\n",
    "    papers = papers.dropna()\n",
    "    papers[\"title\"] = papers[\"title\"].apply(lambda x: re.sub('\\s+',' ', x))\n",
    "    papers[\"abstract\"] = papers[\"abstract\"].apply(lambda x: re.sub('\\s+',' ', x))\n",
    "\n",
    "    del titles, abstracts\n",
    "    return papers"
   ]
  },
  {
   "cell_type": "code",
   "execution_count": 7,
   "id": "8b2eaedd-139e-4528-9b6b-29728e410c6e",
   "metadata": {
    "pycharm": {
     "name": "#%%\n"
    }
   },
   "outputs": [
    {
     "data": {
      "application/vnd.jupyter.widget-view+json": {
       "model_id": "625baf5eb82743f79072e1283ff39960",
       "version_major": 2,
       "version_minor": 0
      },
      "text/plain": [
       "0it [00:00, ?it/s]"
      ]
     },
     "metadata": {},
     "output_type": "display_data"
    }
   ],
   "source": [
    "papers = build_dataset()"
   ]
  },
  {
   "cell_type": "code",
   "execution_count": 8,
   "id": "6afd6079-f307-4fb2-a093-3e9dc675809d",
   "metadata": {
    "pycharm": {
     "name": "#%%\n"
    }
   },
   "outputs": [],
   "source": [
    "papers = papers[['abstract','title']]\n",
    "papers.columns = [\"source_text\", \"target_text\"]\n",
    "\n",
    "# let's add a prefix to source_text, to uniquely identify kind of task we are performing on the data, in this case --> \"summarize\"\n",
    "papers['source_text'] = \"summarize: \"+ papers['source_text']"
   ]
  },
  {
   "cell_type": "code",
   "execution_count": 9,
   "id": "70847193-cfe2-4437-91d4-68817115d3a3",
   "metadata": {
    "pycharm": {
     "name": "#%%\n"
    }
   },
   "outputs": [
    {
     "data": {
      "text/plain": [
       "0        summarize:  Sparse Code Division Multiple Acce...\n",
       "1        summarize:  Given a multiple-input multiple-ou...\n",
       "2        summarize:  This paper discusses the benefits ...\n",
       "3        summarize:  Given a bipartite graph $G = (V_1,...\n",
       "4        summarize:  Honeypots are more and more used t...\n",
       "                               ...                        \n",
       "40778    summarize:  Is the universe computable? If so,...\n",
       "40779    summarize:  Quantum key distribution is the mo...\n",
       "40780    summarize:  We consider the design of self-tes...\n",
       "40781    summarize:  If mutually mistrustful parties A ...\n",
       "40782    summarize:  Based on a calculation of neural d...\n",
       "Name: source_text, Length: 40783, dtype: object"
      ]
     },
     "execution_count": 9,
     "metadata": {},
     "output_type": "execute_result"
    }
   ],
   "source": [
    "papers['source_text']"
   ]
  },
  {
   "cell_type": "code",
   "execution_count": 10,
   "id": "07c3f363-284e-44b9-974c-219a609c87d8",
   "metadata": {
    "pycharm": {
     "name": "#%%\n"
    }
   },
   "outputs": [],
   "source": [
    "from sklearn.model_selection import train_test_split\n",
    "\n",
    "train_df, test_df = train_test_split(papers, test_size=0.1, random_state=42)"
   ]
  },
  {
   "cell_type": "code",
   "execution_count": null,
   "id": "9c9d885d-9d8a-42e3-afc8-b1e25e1ba68c",
   "metadata": {
    "pycharm": {
     "name": "#%%\n"
    }
   },
   "outputs": [
    {
     "name": "stderr",
     "output_type": "stream",
     "text": [
      "Global seed set to 42\n",
      "GPU available: True, used: True\n",
      "TPU available: False, using: 0 TPU cores\n",
      "IPU available: False, using: 0 IPUs\n",
      "LOCAL_RANK: 0 - CUDA_VISIBLE_DEVICES: [0]\n",
      "Missing logger folder: /home/seclab/Project/woohyuk2/bbbbbbbbbbbbbbbb/lightning_logs\n",
      "\n",
      "  | Name  | Type                       | Params\n",
      "-----------------------------------------------------\n",
      "0 | model | T5ForConditionalGeneration | 222 M \n",
      "-----------------------------------------------------\n",
      "222 M     Trainable params\n",
      "0         Non-trainable params\n",
      "222 M     Total params\n",
      "891.614   Total estimated model params size (MB)\n"
     ]
    },
    {
     "data": {
      "application/vnd.jupyter.widget-view+json": {
       "model_id": "",
       "version_major": 2,
       "version_minor": 0
      },
      "text/plain": [
       "Validation sanity check: 0it [00:00, ?it/s]"
      ]
     },
     "metadata": {},
     "output_type": "display_data"
    },
    {
     "name": "stderr",
     "output_type": "stream",
     "text": [
      "Global seed set to 42\n"
     ]
    },
    {
     "data": {
      "application/vnd.jupyter.widget-view+json": {
       "model_id": "d841d6e510d64f9583ffa2bbf942eef6",
       "version_major": 2,
       "version_minor": 0
      },
      "text/plain": [
       "Training: 0it [00:00, ?it/s]"
      ]
     },
     "metadata": {},
     "output_type": "display_data"
    }
   ],
   "source": [
    "# import\n",
    "from simplet5 import SimpleT5\n",
    "\n",
    "# instatntiate\n",
    "model = SimpleT5()\n",
    "\n",
    "# load\n",
    "model.from_pretrained(\"t5\",\"t5-base\")\n",
    "\n",
    "# train\n",
    "# model.train(train_df=train_df, eval_df=test_df, source_max_token_len=512, target_max_token_len=128, max_epochs=100, batch_size=38, use_gpu=True, dataloader_num_workers=32)%notebook"
   ]
  },
  {
   "cell_type": "code",
   "execution_count": null,
   "id": "4dab20d9-f5af-425f-b16b-8c739c8f1bd3",
   "metadata": {
    "pycharm": {
     "name": "#%%\n"
    }
   },
   "outputs": [],
   "source": [
    "model.load_model(r\"outputs/simplet5-epoch-5-train-loss-1.3866-val-loss-1.7207\", use_gpu=True)\n",
    "\n",
    "# generate\n",
    "model.predict(\"summarize:  some text you want to test it on\")"
   ]
  },
  {
   "cell_type": "code",
   "execution_count": null,
   "id": "6cab1de7-a044-4551-bf01-f26fa7cc25df",
   "metadata": {
    "pycharm": {
     "name": "#%%\n"
    }
   },
   "outputs": [],
   "source": [
    "sample_abstracts = test_df.sample(10)\n",
    "\n",
    "for i, abstract in sample_abstracts.iterrows():\n",
    "    print(f\"===== Abstract =====\")\n",
    "    print(abstract['source_text'])\n",
    "    summary= model.predict(abstract['source_text'])[0]\n",
    "    print(f\"\\n===== Actual Title =====\")\n",
    "    print(f\"{abstract['target_text']}\")\n",
    "    print(f\"\\n===== Generated Title =====\")\n",
    "    print(f\"{summary}\")\n",
    "    print(\"\\n +++++++++++++++++++++++++++++++++++++++++++++++++++++++++++++++++++++++++++++++++\\n\")"
   ]
  },
  {
   "cell_type": "code",
   "execution_count": null,
   "id": "53e7e473-1d79-42df-8dd2-9c477932eb5d",
   "metadata": {
    "pycharm": {
     "name": "#%%\n"
    }
   },
   "outputs": [],
   "source": [
    "!pip install pyqtwebengine\n",
    "!pip install pyqt5\n",
    "!pip install simplet5\n",
    "!pip install --upgrade simplet5"
   ]
  },
  {
   "cell_type": "code",
   "execution_count": null,
   "id": "feaf43fb-2336-485c-b395-6cf1d2f2a676",
   "metadata": {
    "pycharm": {
     "name": "#%%\n"
    }
   },
   "outputs": [],
   "source": []
  }
 ],
 "metadata": {
  "kernelspec": {
   "display_name": "Woohyuk",
   "language": "python",
   "name": "woohyuk"
  },
  "language_info": {
   "codemirror_mode": {
    "name": "ipython",
    "version": 3
   },
   "file_extension": ".py",
   "mimetype": "text/x-python",
   "name": "python",
   "nbconvert_exporter": "python",
   "pygments_lexer": "ipython3",
   "version": "3.9.15"
  },
  "vscode": {
   "interpreter": {
    "hash": "19d1d53a962d236aa061289c2ac16dc8e6d9648c89fe79f459ae9a3493bc67b4"
   }
  }
 },
 "nbformat": 4,
 "nbformat_minor": 5
}